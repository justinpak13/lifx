{
 "cells": [
  {
   "cell_type": "code",
   "execution_count": 4,
   "id": "9166b1d5-4a3f-4811-9848-5b34e8e2c346",
   "metadata": {},
   "outputs": [],
   "source": [
    "hue = 70\n",
    "uint16_hue = int(round(0x10000 * hue) / 360) % 0x10000"
   ]
  },
  {
   "cell_type": "code",
   "execution_count": 5,
   "id": "df340152-ea14-4c9e-86d3-2e69ec7c4174",
   "metadata": {},
   "outputs": [
    {
     "data": {
      "text/plain": [
       "12743"
      ]
     },
     "execution_count": 5,
     "metadata": {},
     "output_type": "execute_result"
    }
   ],
   "source": [
    "uint16_hue"
   ]
  },
  {
   "cell_type": "code",
   "execution_count": 10,
   "id": "f7fca666-9ac3-4151-90c2-41c6b1f8f195",
   "metadata": {},
   "outputs": [
    {
     "data": {
      "text/plain": [
       "32767.5"
      ]
     },
     "execution_count": 10,
     "metadata": {},
     "output_type": "execute_result"
    }
   ],
   "source": [
    "(180/ 360 * 65535) % 65535"
   ]
  },
  {
   "cell_type": "code",
   "execution_count": 11,
   "id": "4e9db766-96ad-46e0-8a10-8026bcdb8299",
   "metadata": {},
   "outputs": [
    {
     "data": {
      "text/plain": [
       "179.99"
      ]
     },
     "execution_count": 11,
     "metadata": {},
     "output_type": "execute_result"
    }
   ],
   "source": [
    "round(float(32767) * 360 / 0x10000, 2)"
   ]
  },
  {
   "cell_type": "markdown",
   "id": "f417fc6f-74d4-4a3b-8175-d914d8331090",
   "metadata": {},
   "source": []
  }
 ],
 "metadata": {
  "kernelspec": {
   "display_name": "Python 3 (ipykernel)",
   "language": "python",
   "name": "python3"
  },
  "language_info": {
   "codemirror_mode": {
    "name": "ipython",
    "version": 3
   },
   "file_extension": ".py",
   "mimetype": "text/x-python",
   "name": "python",
   "nbconvert_exporter": "python",
   "pygments_lexer": "ipython3",
   "version": "3.9.13"
  }
 },
 "nbformat": 4,
 "nbformat_minor": 5
}
